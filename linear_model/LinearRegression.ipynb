{
 "cells": [
  {
   "cell_type": "code",
   "execution_count": 1,
   "metadata": {
    "collapsed": true
   },
   "outputs": [],
   "source": [
    "import time\n",
    "import numpy as np\n",
    "from scipy.linalg import lstsq\n",
    "from sklearn.datasets import load_boston\n",
    "from sklearn.linear_model import LinearRegression as skLinearRegression"
   ]
  },
  {
   "cell_type": "code",
   "execution_count": 2,
   "metadata": {
    "collapsed": true
   },
   "outputs": [],
   "source": [
    "# Implementation 1: add dummy feature\n",
    "class LinearRegression():\n",
    "    def fit(self, X, y):\n",
    "        X_train = np.hstack((np.ones((X.shape[0], 1)), X))\n",
    "        coef, _, _, _ = lstsq(X_train, y)\n",
    "        self.coef_ = coef[1:]\n",
    "        self.intercept_ = coef[0]\n",
    "        return self\n",
    "\n",
    "    def predict(self, X):\n",
    "        y_pred = np.dot(X, self.coef_) + self.intercept_\n",
    "        return y_pred"
   ]
  },
  {
   "cell_type": "code",
   "execution_count": 3,
   "metadata": {},
   "outputs": [],
   "source": [
    "X, y = load_boston(return_X_y=True)\n",
    "reg1 = LinearRegression().fit(X, y)\n",
    "reg2 = skLinearRegression().fit(X, y)\n",
    "assert np.allclose(reg1.coef_, reg2.coef_)\n",
    "assert np.isclose(reg1.intercept_, reg2.intercept_)"
   ]
  },
  {
   "cell_type": "code",
   "execution_count": 4,
   "metadata": {},
   "outputs": [],
   "source": [
    "pred1 = reg1.predict(X)\n",
    "pred2 = reg2.predict(X)\n",
    "assert np.allclose(pred1, pred2)"
   ]
  },
  {
   "cell_type": "code",
   "execution_count": 5,
   "metadata": {
    "collapsed": true
   },
   "outputs": [],
   "source": [
    "# Implementation 2: center the dataset and calculate the intercept manually\n",
    "# similar to scikit-learn\n",
    "class LinearRegression():\n",
    "    def fit(self, X, y):\n",
    "        X_mean = np.mean(X, axis=0)\n",
    "        y_mean = np.mean(y)\n",
    "        X_train = X - X_mean\n",
    "        y_train = y - y_mean\n",
    "        self.coef_, _, _, _ = lstsq(X_train, y_train)\n",
    "        self.intercept_ = y_mean - np.dot(X_mean, self.coef_)\n",
    "        return self\n",
    "\n",
    "    def predict(self, X):\n",
    "        y_pred = np.dot(X, self.coef_) + self.intercept_\n",
    "        return y_pred"
   ]
  },
  {
   "cell_type": "code",
   "execution_count": 6,
   "metadata": {
    "collapsed": true
   },
   "outputs": [],
   "source": [
    "X, y = load_boston(return_X_y=True)\n",
    "reg1 = LinearRegression().fit(X, y)\n",
    "reg2 = skLinearRegression().fit(X, y)\n",
    "assert np.allclose(reg1.coef_, reg2.coef_)\n",
    "assert np.isclose(reg1.intercept_, reg2.intercept_)"
   ]
  },
  {
   "cell_type": "code",
   "execution_count": 7,
   "metadata": {
    "collapsed": true
   },
   "outputs": [],
   "source": [
    "pred1 = reg1.predict(X)\n",
    "pred2 = reg2.predict(X)\n",
    "assert np.allclose(pred1, pred2)"
   ]
  }
 ],
 "metadata": {
  "kernelspec": {
   "display_name": "Python 3",
   "language": "python",
   "name": "python3"
  },
  "language_info": {
   "codemirror_mode": {
    "name": "ipython",
    "version": 3
   },
   "file_extension": ".py",
   "mimetype": "text/x-python",
   "name": "python",
   "nbconvert_exporter": "python",
   "pygments_lexer": "ipython3",
   "version": "3.6.3"
  }
 },
 "nbformat": 4,
 "nbformat_minor": 2
}
