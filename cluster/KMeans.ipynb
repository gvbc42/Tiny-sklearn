{
 "cells": [
  {
   "cell_type": "code",
   "execution_count": 1,
   "metadata": {},
   "outputs": [],
   "source": [
    "import numpy as np\n",
    "from sklearn.datasets import load_iris\n",
    "from sklearn.cluster import KMeans as skKmeans"
   ]
  },
  {
   "cell_type": "code",
   "execution_count": 2,
   "metadata": {},
   "outputs": [],
   "source": [
    "class KMeans():\n",
    "    def __init__(self, n_clusters=8,\n",
    "                 max_iter=300, tol=1e-4, random_state=0):\n",
    "        self.n_clusters = n_clusters\n",
    "        self.max_iter = max_iter\n",
    "        self.tol = tol\n",
    "        self.random_state = random_state\n",
    "\n",
    "    def _labels_inertia(self, X, centers):\n",
    "        labels = np.zeros(X.shape[0])\n",
    "        inertia = 0\n",
    "        for sample_idx in range(X.shape[0]):\n",
    "            min_dis = np.inf\n",
    "            for center_idx in range(self.n_clusters):\n",
    "                d = np.sum(np.square(X[sample_idx] - centers[center_idx]))\n",
    "                if d < min_dis:\n",
    "                    min_dis = d\n",
    "                    labels[sample_idx] = center_idx\n",
    "            inertia += min_dis\n",
    "        return labels, inertia\n",
    "\n",
    "    def fit(self, X):\n",
    "        rng = np.random.RandomState(self.random_state)\n",
    "        # consistent with scikit-learn\n",
    "        tol = np.mean(np.var(X, axis=0)) * self.tol\n",
    "        centers = X[rng.permutation(X.shape[0])[:self.n_clusters]]\n",
    "        for i in range(self.max_iter):\n",
    "            centers_old = centers.copy()\n",
    "            labels, inertia = self._labels_inertia(X, centers)\n",
    "            for center_idx in range(self.n_clusters):\n",
    "                centers[center_idx] = np.mean(X[labels == center_idx], axis=0)\n",
    "            center_shift_total = np.sum(np.square(centers_old - centers))\n",
    "            if center_shift_total <= tol:\n",
    "                break\n",
    "        if center_shift_total > 0:\n",
    "            labels, inertia = self._labels_inertia(X, centers)\n",
    "        self.cluster_centers_ = centers\n",
    "        self.labels_ = labels\n",
    "        self.inertia_ = inertia\n",
    "        self.n_iter_ = i + 1\n",
    "        return self\n",
    "\n",
    "    def predict(self, X):\n",
    "        return self._labels_inertia(X, self.cluster_centers_)[0]"
   ]
  },
  {
   "cell_type": "code",
   "execution_count": 3,
   "metadata": {},
   "outputs": [],
   "source": [
    "X, _ = load_iris(return_X_y=True)\n",
    "clf1 = KMeans(n_clusters=3, random_state=0).fit(X)\n",
    "clf2 = skKmeans(n_clusters=3, init=\"random\", n_init=1, algorithm=\"full\", random_state=0).fit(X)\n",
    "assert np.allclose(clf1.cluster_centers_, clf2.cluster_centers_)\n",
    "assert np.array_equal(clf1.labels_, clf2.labels_)\n",
    "assert np.allclose(clf1.inertia_, clf2.inertia_)\n",
    "pred1 = clf1.predict(X)\n",
    "pred2 = clf2.predict(X)\n",
    "assert np.array_equal(pred1, pred2)"
   ]
  }
 ],
 "metadata": {
  "kernelspec": {
   "display_name": "dev",
   "language": "python",
   "name": "dev"
  },
  "language_info": {
   "codemirror_mode": {
    "name": "ipython",
    "version": 3
   },
   "file_extension": ".py",
   "mimetype": "text/x-python",
   "name": "python",
   "nbconvert_exporter": "python",
   "pygments_lexer": "ipython3",
   "version": "3.7.3"
  }
 },
 "nbformat": 4,
 "nbformat_minor": 2
}
