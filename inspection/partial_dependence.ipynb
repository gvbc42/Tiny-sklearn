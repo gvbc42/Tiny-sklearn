{
 "cells": [
  {
   "cell_type": "code",
   "execution_count": 1,
   "metadata": {},
   "outputs": [],
   "source": [
    "import numpy as np\n",
    "from sklearn.datasets import load_boston, load_breast_cancer, load_iris\n",
    "from sklearn.ensemble import RandomForestClassifier, RandomForestRegressor\n",
    "from sklearn.inspection import partial_dependence as skpartial_dependence"
   ]
  },
  {
   "cell_type": "code",
   "execution_count": 2,
   "metadata": {},
   "outputs": [],
   "source": [
    "def partial_dependence(estimator, X, features, grid_resolution=100):\n",
    "    if len(np.unique(X[:, features])) < grid_resolution:\n",
    "        values = np.unique(X[:, features])\n",
    "    else:\n",
    "        values = np.linspace(np.min(X[:, features]), np.max(X[:, features]),\n",
    "                             num=grid_resolution, endpoint=True)\n",
    "    if estimator._estimator_type == \"regressor\":\n",
    "        prediction_method = estimator.predict\n",
    "    else:  # estimator._estimator_type == \"classifier\"\n",
    "        prediction_method = estimator.predict_proba\n",
    "    averaged_predictions = []\n",
    "    for value in values:\n",
    "        X_eval = X.copy()\n",
    "        X_eval[:, features] = value\n",
    "        predictions = prediction_method(X_eval)\n",
    "        averaged_predictions.append(np.mean(predictions, axis=0))\n",
    "    averaged_predictions = np.array(averaged_predictions).T\n",
    "    if estimator._estimator_type == \"regressor\":\n",
    "        averaged_predictions = averaged_predictions.reshape(1, -1)\n",
    "    elif estimator._estimator_type == \"classifier\" and averaged_predictions.shape[0] == 2:\n",
    "        averaged_predictions = averaged_predictions[1].reshape(1, -1)\n",
    "    return averaged_predictions, values"
   ]
  },
  {
   "cell_type": "code",
   "execution_count": 4,
   "metadata": {},
   "outputs": [],
   "source": [
    "# regression\n",
    "X, y = load_boston(return_X_y=True)\n",
    "clf = RandomForestRegressor(random_state=0).fit(X, y)\n",
    "for i in range(X.shape[1]):\n",
    "    ans1 = partial_dependence(clf, X, i)\n",
    "    ans2 = skpartial_dependence(clf, X, i, percentiles=(0, 1))\n",
    "    assert np.allclose(ans1[0], ans2[0])\n",
    "    assert np.allclose(ans1[1], ans2[1][0])"
   ]
  },
  {
   "cell_type": "code",
   "execution_count": 5,
   "metadata": {},
   "outputs": [],
   "source": [
    "# binary classification\n",
    "X, y = load_breast_cancer(return_X_y=True)\n",
    "clf = RandomForestClassifier(random_state=0).fit(X, y)\n",
    "for i in range(X.shape[1]):\n",
    "    ans1 = partial_dependence(clf, X, i)\n",
    "    ans2 = skpartial_dependence(clf, X, i, percentiles=(0, 1))\n",
    "    assert np.allclose(ans1[1], ans2[1][0])"
   ]
  },
  {
   "cell_type": "code",
   "execution_count": 6,
   "metadata": {},
   "outputs": [],
   "source": [
    "# multiclass classification\n",
    "X, y = load_iris(return_X_y=True)\n",
    "clf = RandomForestClassifier(random_state=0).fit(X, y)\n",
    "for i in range(X.shape[1]):\n",
    "    ans1 = partial_dependence(clf, X, i)\n",
    "    ans2 = skpartial_dependence(clf, X, i, percentiles=(0, 1))\n",
    "    assert np.allclose(ans1[1], ans2[1][0])"
   ]
  }
 ],
 "metadata": {
  "kernelspec": {
   "display_name": "dev",
   "language": "python",
   "name": "dev"
  },
  "language_info": {
   "codemirror_mode": {
    "name": "ipython",
    "version": 3
   },
   "file_extension": ".py",
   "mimetype": "text/x-python",
   "name": "python",
   "nbconvert_exporter": "python",
   "pygments_lexer": "ipython3",
   "version": "3.7.3"
  }
 },
 "nbformat": 4,
 "nbformat_minor": 2
}
