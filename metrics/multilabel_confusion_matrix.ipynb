{
 "cells": [
  {
   "cell_type": "code",
   "execution_count": 1,
   "metadata": {},
   "outputs": [],
   "source": [
    "import numpy as np\n",
    "from sklearn.metrics import multilabel_confusion_matrix as skmultilabel_confusion_matrix"
   ]
  },
  {
   "cell_type": "code",
   "execution_count": 2,
   "metadata": {},
   "outputs": [],
   "source": [
    "def multilabel_confusion_matrix(y_true, y_pred):\n",
    "    n_labels = len(set(y_true) | set(y_pred))\n",
    "    true_sum = np.bincount(y_true, minlength=n_labels)\n",
    "    pred_sum = np.bincount(y_pred, minlength=n_labels)\n",
    "    tp = np.bincount(y_true[y_true == y_pred], minlength=n_labels)\n",
    "    fp = pred_sum - tp\n",
    "    fn = true_sum - tp\n",
    "    tn = len(y_true) - tp - fp - fn\n",
    "    return np.array([tn, fp, fn, tp]).T.reshape(-1, 2, 2)"
   ]
  },
  {
   "cell_type": "code",
   "execution_count": 3,
   "metadata": {},
   "outputs": [],
   "source": [
    "# binary\n",
    "for i in range(10):\n",
    "    rng = np.random.RandomState(i)\n",
    "    y_true = rng.randint(2, size=10)\n",
    "    y_pred = rng.randint(2, size=10)\n",
    "    score1 = multilabel_confusion_matrix(y_true, y_pred)\n",
    "    score2 = skmultilabel_confusion_matrix(y_true, y_pred)\n",
    "    assert np.array_equal(score1, score2)"
   ]
  },
  {
   "cell_type": "code",
   "execution_count": 4,
   "metadata": {},
   "outputs": [],
   "source": [
    "# multiclass\n",
    "for i in range(10):\n",
    "    rng = np.random.RandomState(i)\n",
    "    y_true = rng.randint(3, size=10)\n",
    "    y_pred = rng.randint(3, size=10)\n",
    "    score1 = multilabel_confusion_matrix(y_true, y_pred)\n",
    "    score2 = skmultilabel_confusion_matrix(y_true, y_pred)\n",
    "    assert np.array_equal(score1, score2)"
   ]
  }
 ],
 "metadata": {
  "kernelspec": {
   "display_name": "Python 3",
   "language": "python",
   "name": "python3"
  },
  "language_info": {
   "codemirror_mode": {
    "name": "ipython",
    "version": 3
   },
   "file_extension": ".py",
   "mimetype": "text/x-python",
   "name": "python",
   "nbconvert_exporter": "python",
   "pygments_lexer": "ipython3",
   "version": "3.7.3"
  }
 },
 "nbformat": 4,
 "nbformat_minor": 2
}
