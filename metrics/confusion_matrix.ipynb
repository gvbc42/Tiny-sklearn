{
 "cells": [
  {
   "cell_type": "code",
   "execution_count": 1,
   "metadata": {},
   "outputs": [],
   "source": [
    "import numpy as np\n",
    "from scipy.sparse import coo_matrix\n",
    "from sklearn.metrics import confusion_matrix as skconfusion_matrix"
   ]
  },
  {
   "cell_type": "code",
   "execution_count": 2,
   "metadata": {},
   "outputs": [],
   "source": [
    "def confusion_matrix(y_true, y_pred):\n",
    "    n_labels = len(set(y_true) | set(y_pred))\n",
    "    return coo_matrix((np.ones(len(y_true)), (y_true, y_pred)),\n",
    "                      shape=(n_labels, n_labels)).toarray()"
   ]
  },
  {
   "cell_type": "code",
   "execution_count": 3,
   "metadata": {},
   "outputs": [],
   "source": [
    "# binary\n",
    "for i in range(10):\n",
    "    rng = np.random.RandomState(i)\n",
    "    y_true = rng.randint(2, size=10)\n",
    "    y_pred = rng.randint(2, size=10)\n",
    "    score1 = confusion_matrix(y_true, y_pred)\n",
    "    score2 = skconfusion_matrix(y_true, y_pred)\n",
    "    assert np.array_equal(score1, score2)"
   ]
  },
  {
   "cell_type": "code",
   "execution_count": 4,
   "metadata": {},
   "outputs": [],
   "source": [
    "# multiclass\n",
    "for i in range(10):\n",
    "    rng = np.random.RandomState(i)\n",
    "    y_true = rng.randint(3, size=10)\n",
    "    y_pred = rng.randint(3, size=10)\n",
    "    score1 = confusion_matrix(y_true, y_pred)\n",
    "    score2 = skconfusion_matrix(y_true, y_pred)\n",
    "    assert np.array_equal(score1, score2)"
   ]
  }
 ],
 "metadata": {
  "kernelspec": {
   "display_name": "dev",
   "language": "python",
   "name": "dev"
  },
  "language_info": {
   "codemirror_mode": {
    "name": "ipython",
    "version": 3
   },
   "file_extension": ".py",
   "mimetype": "text/x-python",
   "name": "python",
   "nbconvert_exporter": "python",
   "pygments_lexer": "ipython3",
   "version": "3.7.3"
  }
 },
 "nbformat": 4,
 "nbformat_minor": 2
}
