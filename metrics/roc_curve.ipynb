{
 "cells": [
  {
   "cell_type": "code",
   "execution_count": 1,
   "metadata": {},
   "outputs": [],
   "source": [
    "import numpy as np\n",
    "from sklearn.metrics import roc_curve as skroc_curve"
   ]
  },
  {
   "cell_type": "code",
   "execution_count": 2,
   "metadata": {},
   "outputs": [],
   "source": [
    "def roc_curve(y_true, y_score):\n",
    "    desc_score_indices = np.argsort(y_score, kind=\"mergesort\")[::-1]\n",
    "    y_true = y_true[desc_score_indices]\n",
    "    y_score = y_score[desc_score_indices]\n",
    "    distinct_value_indices = np.where(np.diff(y_score))[0]\n",
    "    threshold_idxs = np.r_[distinct_value_indices, y_true.size - 1]\n",
    "    tps = np.cumsum(y_true)[threshold_idxs]\n",
    "    fps = 1 + threshold_idxs - tps\n",
    "    thresholds = y_score[threshold_idxs]\n",
    "    tps = np.r_[0, tps]\n",
    "    fps = np.r_[0, fps]\n",
    "    thresholds = np.r_[thresholds[0] + 1, thresholds]\n",
    "    tpr = tps / tps[-1]\n",
    "    fpr = fps / fps[-1]\n",
    "    return fpr, tpr, thresholds"
   ]
  },
  {
   "cell_type": "code",
   "execution_count": 3,
   "metadata": {},
   "outputs": [],
   "source": [
    "for i in range(10):\n",
    "    rng = np.random.RandomState(i)\n",
    "    y_true = rng.randint(2, size=10)\n",
    "    y_score = rng.randint(11, size=10) / 10\n",
    "    ans1 = roc_curve(y_true, y_score)\n",
    "    ans2 = skroc_curve(y_true, y_score, drop_intermediate=False)\n",
    "    assert np.allclose(ans1[0], ans2[0])\n",
    "    assert np.allclose(ans1[1], ans2[1])\n",
    "    assert np.allclose(ans1[2], ans2[2])"
   ]
  }
 ],
 "metadata": {
  "kernelspec": {
   "display_name": "dev",
   "language": "python",
   "name": "dev"
  },
  "language_info": {
   "codemirror_mode": {
    "name": "ipython",
    "version": 3
   },
   "file_extension": ".py",
   "mimetype": "text/x-python",
   "name": "python",
   "nbconvert_exporter": "python",
   "pygments_lexer": "ipython3",
   "version": "3.7.3"
  }
 },
 "nbformat": 4,
 "nbformat_minor": 2
}
