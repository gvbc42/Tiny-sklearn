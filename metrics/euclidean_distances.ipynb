{
 "cells": [
  {
   "cell_type": "code",
   "execution_count": 1,
   "metadata": {},
   "outputs": [],
   "source": [
    "import numpy as np\n",
    "from sklearn.datasets import load_iris\n",
    "from sklearn.metrics.pairwise import euclidean_distances as skeuclidean_distances"
   ]
  },
  {
   "cell_type": "code",
   "execution_count": 2,
   "metadata": {},
   "outputs": [],
   "source": [
    "def euclidean_distances(X, Y=None):\n",
    "    XX = np.sum(np.square(X), axis=1)[:, np.newaxis]\n",
    "    if Y is None:\n",
    "        YY = XX.T\n",
    "        XY = np.dot(X, X.T)\n",
    "    else:\n",
    "        YY = np.sum(np.square(Y), axis=1)[np.newaxis, :]\n",
    "        XY = np.dot(X, Y.T)\n",
    "    dist = -2 * XY + XX + YY\n",
    "    dist[dist < 0] = 0\n",
    "    return np.sqrt(dist)"
   ]
  },
  {
   "cell_type": "code",
   "execution_count": 3,
   "metadata": {},
   "outputs": [],
   "source": [
    "X, _ = load_iris(return_X_y=True)\n",
    "ans1 = euclidean_distances(X)\n",
    "ans2 = skeuclidean_distances(X)\n",
    "assert np.allclose(ans1, ans2, atol=1e-6)\n",
    "ans1 = euclidean_distances(X[:100], X[100:])\n",
    "ans2 = skeuclidean_distances(X[:100], X[100:], squared=False)\n",
    "assert np.allclose(ans1, ans2)"
   ]
  }
 ],
 "metadata": {
  "kernelspec": {
   "display_name": "dev",
   "language": "python",
   "name": "dev"
  },
  "language_info": {
   "codemirror_mode": {
    "name": "ipython",
    "version": 3
   },
   "file_extension": ".py",
   "mimetype": "text/x-python",
   "name": "python",
   "nbconvert_exporter": "python",
   "pygments_lexer": "ipython3",
   "version": "3.7.3"
  }
 },
 "nbformat": 4,
 "nbformat_minor": 2
}
