{
 "cells": [
  {
   "cell_type": "code",
   "execution_count": 1,
   "metadata": {},
   "outputs": [],
   "source": [
    "import numpy as np\n",
    "from sklearn.datasets import load_iris\n",
    "from sklearn.metrics.pairwise import cosine_distances as skcosine_distances"
   ]
  },
  {
   "cell_type": "code",
   "execution_count": 2,
   "metadata": {},
   "outputs": [],
   "source": [
    "def cosine_distances(X, Y=None):\n",
    "    X_normalized = X / np.sqrt(np.sum(np.square(X), axis=1))[:, np.newaxis]\n",
    "    if Y is None:\n",
    "        Y_normalized = X_normalized\n",
    "    else:\n",
    "        Y_normalized = Y / np.sqrt(np.sum(np.square(Y), axis=1))[:, np.newaxis]\n",
    "    return 1 - np.dot(X_normalized, Y_normalized.T)"
   ]
  },
  {
   "cell_type": "code",
   "execution_count": 3,
   "metadata": {},
   "outputs": [],
   "source": [
    "X, _ = load_iris(return_X_y=True)\n",
    "ans1 = cosine_distances(X)\n",
    "ans2 = skcosine_distances(X)\n",
    "assert np.allclose(ans1, ans2)\n",
    "ans1 = cosine_distances(X[:100], X[100:])\n",
    "ans2 = skcosine_distances(X[:100], X[100:])\n",
    "assert np.allclose(ans1, ans2)"
   ]
  }
 ],
 "metadata": {
  "kernelspec": {
   "display_name": "dev",
   "language": "python",
   "name": "dev"
  },
  "language_info": {
   "codemirror_mode": {
    "name": "ipython",
    "version": 3
   },
   "file_extension": ".py",
   "mimetype": "text/x-python",
   "name": "python",
   "nbconvert_exporter": "python",
   "pygments_lexer": "ipython3",
   "version": "3.7.3"
  }
 },
 "nbformat": 4,
 "nbformat_minor": 2
}
