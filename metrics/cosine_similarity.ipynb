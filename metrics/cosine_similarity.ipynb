{
 "cells": [
  {
   "cell_type": "code",
   "execution_count": 1,
   "metadata": {},
   "outputs": [],
   "source": [
    "import numpy as np\n",
    "from sklearn.datasets import load_iris\n",
    "from sklearn.metrics.pairwise import cosine_similarity as skcosine_similarity"
   ]
  },
  {
   "cell_type": "code",
   "execution_count": 2,
   "metadata": {},
   "outputs": [],
   "source": [
    "def cosine_similarity(X, Y=None):\n",
    "    X_normalized = X / np.sqrt(np.sum(np.square(X), axis=1))[:, np.newaxis]\n",
    "    if Y is None:\n",
    "        Y_normalized = X_normalized\n",
    "    else:\n",
    "        Y_normalized = Y / np.sqrt(np.sum(np.square(Y), axis=1))[:, np.newaxis]\n",
    "    return np.dot(X_normalized, Y_normalized.T)"
   ]
  },
  {
   "cell_type": "code",
   "execution_count": 3,
   "metadata": {},
   "outputs": [],
   "source": [
    "X, _ = load_iris(return_X_y=True)\n",
    "ans1 = cosine_similarity(X)\n",
    "ans2 = skcosine_similarity(X)\n",
    "assert np.allclose(ans1, ans2)\n",
    "ans1 = cosine_similarity(X[:100], X[100:])\n",
    "ans2 = skcosine_similarity(X[:100], X[100:])\n",
    "assert np.allclose(ans1, ans2)"
   ]
  }
 ],
 "metadata": {
  "kernelspec": {
   "display_name": "dev",
   "language": "python",
   "name": "dev"
  },
  "language_info": {
   "codemirror_mode": {
    "name": "ipython",
    "version": 3
   },
   "file_extension": ".py",
   "mimetype": "text/x-python",
   "name": "python",
   "nbconvert_exporter": "python",
   "pygments_lexer": "ipython3",
   "version": "3.7.3"
  }
 },
 "nbformat": 4,
 "nbformat_minor": 2
}
