{
 "cells": [
  {
   "cell_type": "code",
   "execution_count": 1,
   "metadata": {},
   "outputs": [],
   "source": [
    "import numpy as np\n",
    "from scipy.spatial.distance import cdist\n",
    "from sklearn.datasets import load_iris\n",
    "from sklearn.metrics.pairwise import rbf_kernel as skrbf_kernel"
   ]
  },
  {
   "cell_type": "markdown",
   "metadata": {},
   "source": [
    "### Implementation 1\n",
    "- brute force"
   ]
  },
  {
   "cell_type": "code",
   "execution_count": 2,
   "metadata": {},
   "outputs": [],
   "source": [
    "def rbf_kernel(X, Y=None, gamma=None):\n",
    "    if Y is None:\n",
    "        Y = X\n",
    "    if gamma is None:\n",
    "        gamma = 1 / X.shape[1]\n",
    "    K = np.zeros((X.shape[0], Y.shape[0]))\n",
    "    for i in range(X.shape[0]):\n",
    "        for j in range(Y.shape[0]):\n",
    "            K[i, j] = np.exp(-gamma * np.sum(np.square(X[i] - Y[j])))\n",
    "    return K"
   ]
  },
  {
   "cell_type": "code",
   "execution_count": 3,
   "metadata": {},
   "outputs": [],
   "source": [
    "X, _ = load_iris(return_X_y=True)\n",
    "K1 = rbf_kernel(X)\n",
    "K2 = skrbf_kernel(X)\n",
    "assert np.allclose(K1, K2)"
   ]
  },
  {
   "cell_type": "markdown",
   "metadata": {},
   "source": [
    "### Implementation 2\n",
    "- euclidean distance\n",
    "- similar to scikit-learn"
   ]
  },
  {
   "cell_type": "code",
   "execution_count": 4,
   "metadata": {},
   "outputs": [],
   "source": [
    "def rbf_kernel(X, Y=None, gamma=None):\n",
    "    if Y is None:\n",
    "        Y = X\n",
    "    if gamma is None:\n",
    "        gamma = 1 / X.shape[1]\n",
    "    return np.exp(-gamma * cdist(X, Y, metric='sqeuclidean'))"
   ]
  },
  {
   "cell_type": "code",
   "execution_count": 5,
   "metadata": {},
   "outputs": [],
   "source": [
    "X, _ = load_iris(return_X_y=True)\n",
    "K1 = rbf_kernel(X)\n",
    "K2 = skrbf_kernel(X)\n",
    "assert np.allclose(K1, K2)"
   ]
  }
 ],
 "metadata": {
  "kernelspec": {
   "display_name": "dev",
   "language": "python",
   "name": "dev"
  },
  "language_info": {
   "codemirror_mode": {
    "name": "ipython",
    "version": 3
   },
   "file_extension": ".py",
   "mimetype": "text/x-python",
   "name": "python",
   "nbconvert_exporter": "python",
   "pygments_lexer": "ipython3",
   "version": "3.7.3"
  }
 },
 "nbformat": 4,
 "nbformat_minor": 2
}
