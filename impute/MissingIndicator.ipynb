{
 "cells": [
  {
   "cell_type": "code",
   "execution_count": 1,
   "metadata": {},
   "outputs": [],
   "source": [
    "import numpy as np\n",
    "from sklearn.datasets import load_iris\n",
    "from sklearn.impute import MissingIndicator as skMissingIndicator"
   ]
  },
  {
   "cell_type": "code",
   "execution_count": 2,
   "metadata": {},
   "outputs": [],
   "source": [
    "class MissingIndicator():\n",
    "    def fit(self, X):\n",
    "        mask = np.isnan(X)\n",
    "        n_missing = np.sum(mask, axis=0)\n",
    "        self.features_ = np.flatnonzero(n_missing)\n",
    "        return self\n",
    "\n",
    "    def transform(self, X):\n",
    "        return np.isnan(X[:, self.features_])"
   ]
  },
  {
   "cell_type": "code",
   "execution_count": 3,
   "metadata": {},
   "outputs": [],
   "source": [
    "X, _ = load_iris(return_X_y=True)\n",
    "rng = np.random.RandomState(0)\n",
    "missing_samples = np.arange(X.shape[0])\n",
    "missing_features = rng.choice(X.shape[1], X.shape[0])\n",
    "X[missing_samples, missing_features] = np.nan"
   ]
  },
  {
   "cell_type": "code",
   "execution_count": 4,
   "metadata": {},
   "outputs": [],
   "source": [
    "est1 = MissingIndicator().fit(X)\n",
    "est2 = skMissingIndicator().fit(X)\n",
    "assert np.array_equal(est1.features_, est2.features_)\n",
    "Xt1 = est1.transform(X)\n",
    "Xt2 = est2.transform(X)\n",
    "assert np.allclose(Xt1, Xt2)"
   ]
  }
 ],
 "metadata": {
  "kernelspec": {
   "display_name": "dev",
   "language": "python",
   "name": "dev"
  },
  "language_info": {
   "codemirror_mode": {
    "name": "ipython",
    "version": 3
   },
   "file_extension": ".py",
   "mimetype": "text/x-python",
   "name": "python",
   "nbconvert_exporter": "python",
   "pygments_lexer": "ipython3",
   "version": "3.7.3"
  }
 },
 "nbformat": 4,
 "nbformat_minor": 2
}
