{
 "cells": [
  {
   "cell_type": "code",
   "execution_count": 1,
   "metadata": {},
   "outputs": [],
   "source": [
    "import numpy as np\n",
    "from scipy.spatial.distance import cdist\n",
    "from sklearn.datasets import load_breast_cancer\n",
    "from sklearn.neighbors import NearestNeighbors as skNearestNeighbors"
   ]
  },
  {
   "cell_type": "markdown",
   "metadata": {},
   "source": [
    "### Implementation 1\n",
    "- based on brute force\n",
    "- similar to scikit-learn algorithm='brute'"
   ]
  },
  {
   "cell_type": "code",
   "execution_count": 2,
   "metadata": {},
   "outputs": [],
   "source": [
    "class NearestNeighbors():\n",
    "    def __init__(self, n_neighbors=5, radius=1.0):\n",
    "        self.n_neighbors = n_neighbors\n",
    "        self.radius = radius\n",
    "\n",
    "    def fit(self, X):\n",
    "        self._fit_X = X\n",
    "        return self\n",
    "\n",
    "    def kneighbors(self, X, n_neighbors=None):\n",
    "        if n_neighbors is None:\n",
    "            n_neighbors = self.n_neighbors\n",
    "        dist_mat = cdist(X, self._fit_X)\n",
    "        neigh_ind = np.argsort(dist_mat, axis=1)[:, :n_neighbors]\n",
    "        dist = dist_mat[np.arange(dist_mat.shape[0])[:, np.newaxis], neigh_ind]\n",
    "        return dist, neigh_ind\n",
    "\n",
    "    def radius_neighbors(self, X, radius=None):\n",
    "        if radius is None:\n",
    "            radius = self.radius\n",
    "        dist_mat = cdist(X, self._fit_X)\n",
    "        neigh_ind_list = [np.where(d <= radius)[0]for d in dist_mat]\n",
    "        dist_list = [d[neigh_ind_list[i]] for i, d in enumerate(dist_mat)]\n",
    "        dist = np.empty(len(dist_list), dtype='object')\n",
    "        dist[:] = dist_list\n",
    "        neigh_ind = np.empty(len(neigh_ind_list), dtype='object')\n",
    "        neigh_ind[:] = neigh_ind_list\n",
    "        return dist, neigh_ind"
   ]
  },
  {
   "cell_type": "code",
   "execution_count": 3,
   "metadata": {},
   "outputs": [],
   "source": [
    "X, _ = load_breast_cancer(return_X_y=True)\n",
    "neigh1 = NearestNeighbors().fit(X)\n",
    "neigh2 = skNearestNeighbors().fit(X)\n",
    "dist1, neigh_ind1 = neigh1.kneighbors(X)\n",
    "dist2, neigh_ind2 = neigh2.kneighbors(X)\n",
    "assert np.allclose(dist1, dist2)\n",
    "assert np.array_equal(neigh_ind1, neigh_ind2)\n",
    "dist1, neigh_ind1 = neigh1.radius_neighbors(X)\n",
    "dist2, neigh_ind2 = neigh2.radius_neighbors(X)\n",
    "for d1, d2, n1, n2 in zip(dist1, dist2, neigh_ind1, neigh_ind2):\n",
    "    ind1 = np.argsort(d1)\n",
    "    ind2 = np.argsort(d2)\n",
    "    assert np.allclose(d1[ind1], d2[ind2])\n",
    "    assert np.array_equal(n1[ind1], n2[ind2])"
   ]
  }
 ],
 "metadata": {
  "kernelspec": {
   "display_name": "dev",
   "language": "python",
   "name": "dev"
  },
  "language_info": {
   "codemirror_mode": {
    "name": "ipython",
    "version": 3
   },
   "file_extension": ".py",
   "mimetype": "text/x-python",
   "name": "python",
   "nbconvert_exporter": "python",
   "pygments_lexer": "ipython3",
   "version": "3.7.3"
  }
 },
 "nbformat": 4,
 "nbformat_minor": 2
}
