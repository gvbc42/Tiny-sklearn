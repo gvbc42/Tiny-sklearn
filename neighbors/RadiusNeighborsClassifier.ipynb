{
 "cells": [
  {
   "cell_type": "code",
   "execution_count": 1,
   "metadata": {},
   "outputs": [],
   "source": [
    "import numpy as np\n",
    "from scipy.stats import mode\n",
    "from scipy.spatial.distance import cdist\n",
    "from sklearn.datasets import load_breast_cancer\n",
    "from sklearn.preprocessing import StandardScaler\n",
    "from sklearn.neighbors import RadiusNeighborsClassifier as skRadiusNeighborsClassifier"
   ]
  },
  {
   "cell_type": "markdown",
   "metadata": {},
   "source": [
    "### Implementation 1\n",
    "- based on brute force\n",
    "- similar to scikit-learn algorithm='brute', weights='uniform'"
   ]
  },
  {
   "cell_type": "code",
   "execution_count": 2,
   "metadata": {},
   "outputs": [],
   "source": [
    "class RadiusNeighborsClassifier():\n",
    "    def __init__(self, radius=1.0):\n",
    "        self.radius = radius\n",
    "\n",
    "    def fit(self, X, y):\n",
    "        self._fit_X = X\n",
    "        self.classes_, self._y = np.unique(y, return_inverse=True)\n",
    "        return self\n",
    "\n",
    "    def predict(self, X):\n",
    "        dist_mat = cdist(X, self._fit_X)\n",
    "        neigh_ind = [np.where(d <= self.radius)[0] for d in dist_mat]\n",
    "        ind = np.array([mode(self._y[n])[0] for n in neigh_ind]).ravel()\n",
    "        return self.classes_[ind]"
   ]
  },
  {
   "cell_type": "code",
   "execution_count": 3,
   "metadata": {},
   "outputs": [],
   "source": [
    "X, y = load_breast_cancer(return_X_y=True)\n",
    "X = StandardScaler().fit_transform(X)\n",
    "clf1 = RadiusNeighborsClassifier(radius=5).fit(X, y)\n",
    "clf2 = skRadiusNeighborsClassifier(radius=5).fit(X, y)\n",
    "pred1 = clf1.predict(X)\n",
    "pred2 = clf2.predict(X)\n",
    "assert np.array_equal(pred1, pred2)"
   ]
  }
 ],
 "metadata": {
  "kernelspec": {
   "display_name": "dev",
   "language": "python",
   "name": "dev"
  },
  "language_info": {
   "codemirror_mode": {
    "name": "ipython",
    "version": 3
   },
   "file_extension": ".py",
   "mimetype": "text/x-python",
   "name": "python",
   "nbconvert_exporter": "python",
   "pygments_lexer": "ipython3",
   "version": "3.7.3"
  }
 },
 "nbformat": 4,
 "nbformat_minor": 2
}
