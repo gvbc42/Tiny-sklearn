{
 "cells": [
  {
   "cell_type": "code",
   "execution_count": 1,
   "metadata": {},
   "outputs": [],
   "source": [
    "import numpy as np\n",
    "from sklearn.datasets import load_iris\n",
    "from sklearn.preprocessing import RobustScaler as skRobustScaler"
   ]
  },
  {
   "cell_type": "code",
   "execution_count": 2,
   "metadata": {},
   "outputs": [],
   "source": [
    "class RobustScaler:\n",
    "    def __init__(self, quantile_range=(25, 75)):\n",
    "        self.quantile_range = quantile_range\n",
    "\n",
    "    def fit(self, X):\n",
    "        self.center_ = np.median(X, axis=0)\n",
    "        quantiles = np.percentile(X, self.quantile_range, axis=0)\n",
    "        self.scale_ = quantiles[1] - quantiles[0]\n",
    "        return self\n",
    "\n",
    "    def transform(self, X):\n",
    "        return (X - self.center_) / self.scale_"
   ]
  },
  {
   "cell_type": "code",
   "execution_count": 3,
   "metadata": {},
   "outputs": [],
   "source": [
    "X, _ = load_iris(return_X_y=True)\n",
    "sc1 = RobustScaler().fit(X)\n",
    "sc2 = skRobustScaler().fit(X)\n",
    "assert np.allclose(sc1.center_, sc2.center_)\n",
    "assert np.allclose(sc1.scale_, sc2.scale_)\n",
    "Xt1 = sc1.transform(X)\n",
    "Xt2 = sc2.transform(X)\n",
    "assert np.allclose(Xt1, Xt2)"
   ]
  }
 ],
 "metadata": {
  "kernelspec": {
   "display_name": "dev",
   "language": "python",
   "name": "dev"
  },
  "language_info": {
   "codemirror_mode": {
    "name": "ipython",
    "version": 3
   },
   "file_extension": ".py",
   "mimetype": "text/x-python",
   "name": "python",
   "nbconvert_exporter": "python",
   "pygments_lexer": "ipython3",
   "version": "3.7.3"
  }
 },
 "nbformat": 4,
 "nbformat_minor": 2
}
