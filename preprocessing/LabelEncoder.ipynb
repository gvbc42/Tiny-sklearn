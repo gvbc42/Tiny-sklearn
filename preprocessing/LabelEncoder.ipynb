{
 "cells": [
  {
   "cell_type": "code",
   "execution_count": 1,
   "metadata": {},
   "outputs": [],
   "source": [
    "import numpy as np\n",
    "from sklearn.datasets import load_iris\n",
    "from sklearn.preprocessing import LabelEncoder as skLabelEncoder"
   ]
  },
  {
   "cell_type": "code",
   "execution_count": 2,
   "metadata": {},
   "outputs": [],
   "source": [
    "class LabelEncoder():\n",
    "    def fit(self, y):\n",
    "        self.classes_ = np.unique(y)\n",
    "        return self\n",
    "\n",
    "    def transform(self, y):\n",
    "        return np.searchsorted(self.classes_, y)"
   ]
  },
  {
   "cell_type": "code",
   "execution_count": 3,
   "metadata": {},
   "outputs": [],
   "source": [
    "iris = load_iris()"
   ]
  },
  {
   "cell_type": "code",
   "execution_count": 4,
   "metadata": {},
   "outputs": [],
   "source": [
    "# numeric multiclass\n",
    "y = iris.target\n",
    "le1 = LabelEncoder().fit(y)\n",
    "le2 = skLabelEncoder().fit(y)\n",
    "assert np.array_equal(le1.classes_, le2.classes_)\n",
    "yt1 = le1.transform(y)\n",
    "yt2 = le2.transform(y)\n",
    "assert np.array_equal(yt1, yt2)"
   ]
  },
  {
   "cell_type": "code",
   "execution_count": 5,
   "metadata": {},
   "outputs": [],
   "source": [
    "# string multiclass\n",
    "y = iris.target_names[iris.target]\n",
    "le1 = LabelEncoder().fit(y)\n",
    "le2 = skLabelEncoder().fit(y)\n",
    "assert np.array_equal(le1.classes_, le2.classes_)\n",
    "yt1 = le1.transform(y)\n",
    "yt2 = le2.transform(y)\n",
    "assert np.array_equal(yt1, yt2)"
   ]
  }
 ],
 "metadata": {
  "kernelspec": {
   "display_name": "dev",
   "language": "python",
   "name": "dev"
  },
  "language_info": {
   "codemirror_mode": {
    "name": "ipython",
    "version": 3
   },
   "file_extension": ".py",
   "mimetype": "text/x-python",
   "name": "python",
   "nbconvert_exporter": "python",
   "pygments_lexer": "ipython3",
   "version": "3.7.3"
  }
 },
 "nbformat": 4,
 "nbformat_minor": 2
}
