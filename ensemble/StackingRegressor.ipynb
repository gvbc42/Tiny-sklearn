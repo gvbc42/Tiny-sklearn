{
 "cells": [
  {
   "cell_type": "code",
   "execution_count": 1,
   "metadata": {},
   "outputs": [],
   "source": [
    "import numpy as np\n",
    "import pandas as pd\n",
    "from sklearn.base import clone\n",
    "from sklearn.model_selection import cross_val_predict\n",
    "from sklearn.datasets import load_boston\n",
    "from sklearn.ensemble import RandomForestRegressor, GradientBoostingRegressor\n",
    "from sklearn.svm import SVR\n",
    "from sklearn.linear_model import Ridge\n",
    "from sklearn.ensemble import StackingRegressor as skStackingRegressor"
   ]
  },
  {
   "cell_type": "code",
   "execution_count": 2,
   "metadata": {},
   "outputs": [],
   "source": [
    "class StackingRegressor():\n",
    "    def __init__(self, estimators, final_estimator):\n",
    "        self.estimators = estimators\n",
    "        self.final_estimator = final_estimator\n",
    "\n",
    "    def fit(self, X, y):\n",
    "        self.estimators_ = []\n",
    "        for est in self.estimators:\n",
    "            self.estimators_.append(clone(est).fit(X, y))\n",
    "        predictions = []\n",
    "        for est in self.estimators:\n",
    "            predictions.append(cross_val_predict(est, X, y).reshape(-1, 1))\n",
    "        X_meta = np.hstack(predictions)\n",
    "        self.final_estimator_ = clone(self.final_estimator)\n",
    "        self.final_estimator_.fit(X_meta, y)\n",
    "        return self\n",
    "\n",
    "    def transform(self, X):\n",
    "        predictions = []\n",
    "        for est in self.estimators_:\n",
    "            predictions.append(est.predict(X).reshape(-1, 1))\n",
    "        return np.hstack(predictions)\n",
    "\n",
    "    def predict(self, X):\n",
    "        return self.final_estimator_.predict(self.transform(X))"
   ]
  },
  {
   "cell_type": "code",
   "execution_count": 3,
   "metadata": {},
   "outputs": [],
   "source": [
    "X, y = load_boston(return_X_y=True)\n",
    "reg1 = StackingRegressor(estimators=[RandomForestRegressor(random_state=0),\n",
    "                                     GradientBoostingRegressor(random_state=0),\n",
    "                                     SVR()],\n",
    "                         final_estimator=Ridge(random_state=0)).fit(X, y)\n",
    "reg2 = skStackingRegressor(estimators=[(\"rf\", RandomForestRegressor(random_state=0)),\n",
    "                                       (\"gbdt\", GradientBoostingRegressor(random_state=0)),\n",
    "                                       (\"svr\", SVR())],\n",
    "                           final_estimator=Ridge(random_state=0)).fit(X, y)\n",
    "trans1 = reg1.transform(X)\n",
    "trans2 = reg2.transform(X)\n",
    "assert np.allclose(trans1, trans2)\n",
    "pred1 = reg1.predict(X)\n",
    "pred2 = reg2.predict(X)\n",
    "assert np.allclose(pred1, pred2)"
   ]
  }
 ],
 "metadata": {
  "kernelspec": {
   "display_name": "dev",
   "language": "python",
   "name": "dev"
  },
  "language_info": {
   "codemirror_mode": {
    "name": "ipython",
    "version": 3
   },
   "file_extension": ".py",
   "mimetype": "text/x-python",
   "name": "python",
   "nbconvert_exporter": "python",
   "pygments_lexer": "ipython3",
   "version": "3.7.3"
  }
 },
 "nbformat": 4,
 "nbformat_minor": 2
}
