{
 "cells": [
  {
   "cell_type": "code",
   "execution_count": 1,
   "metadata": {},
   "outputs": [],
   "source": [
    "import numpy as np\n",
    "from sklearn.datasets import load_boston\n",
    "from sklearn.tree import DecisionTreeRegressor\n",
    "from sklearn.ensemble import GradientBoostingRegressor as skGradientBoostingRegressor"
   ]
  },
  {
   "cell_type": "code",
   "execution_count": 2,
   "metadata": {},
   "outputs": [],
   "source": [
    "class GradientBoostingRegressor():\n",
    "    def __init__(self, learning_rate=0.1, n_estimators=100, max_depth=3, random_state=0):\n",
    "        self.learning_rate = learning_rate\n",
    "        self.n_estimators = n_estimators\n",
    "        self.max_depth = max_depth\n",
    "        self.random_state = random_state\n",
    "\n",
    "    def fit(self, X, y):\n",
    "        self.n_features_ = X.shape[1]\n",
    "        self.estimators_ = np.empty((self.n_estimators, 1), dtype=np.object)\n",
    "        raw_predictions = np.zeros(X.shape[0])\n",
    "        rng = np.random.RandomState(0)\n",
    "        for i in range(self.n_estimators):\n",
    "            residual = y - raw_predictions\n",
    "            tree = DecisionTreeRegressor(criterion=\"friedman_mse\", max_depth=self.max_depth,\n",
    "                                         random_state=rng)\n",
    "            tree.fit(X, residual)\n",
    "            raw_predictions += self.learning_rate * tree.predict(X)\n",
    "            self.estimators_[i, 0] = tree\n",
    "        return self\n",
    "\n",
    "    def predict(self, X):\n",
    "        raw_predictions = np.zeros(X.shape[0])\n",
    "        for i in range(self.n_estimators):\n",
    "            raw_predictions += self.learning_rate * self.estimators_[i, 0].predict(X)\n",
    "        return raw_predictions\n",
    "\n",
    "    @property\n",
    "    def feature_importances_(self):\n",
    "        all_importances = np.zeros(self.n_features_)\n",
    "        for i in range(self.n_estimators):\n",
    "            all_importances += self.estimators_[i, 0].tree_.compute_feature_importances(normalize=False)\n",
    "        return all_importances / np.sum(all_importances)"
   ]
  },
  {
   "cell_type": "code",
   "execution_count": 3,
   "metadata": {},
   "outputs": [],
   "source": [
    "X, y = load_boston(return_X_y=True)\n",
    "clf1 = GradientBoostingRegressor().fit(X, y)\n",
    "clf2 = skGradientBoostingRegressor(init=\"zero\", presort=False, random_state=0).fit(X, y)\n",
    "assert np.allclose(clf1.feature_importances_, clf2.feature_importances_)\n",
    "pred1 = clf1.predict(X)\n",
    "pred2 = clf2.predict(X)\n",
    "assert np.allclose(pred1, pred2)"
   ]
  }
 ],
 "metadata": {
  "kernelspec": {
   "display_name": "dev",
   "language": "python",
   "name": "dev"
  },
  "language_info": {
   "codemirror_mode": {
    "name": "ipython",
    "version": 3
   },
   "file_extension": ".py",
   "mimetype": "text/x-python",
   "name": "python",
   "nbconvert_exporter": "python",
   "pygments_lexer": "ipython3",
   "version": "3.7.3"
  }
 },
 "nbformat": 4,
 "nbformat_minor": 2
}
