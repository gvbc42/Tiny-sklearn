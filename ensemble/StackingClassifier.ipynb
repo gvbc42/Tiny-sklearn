{
 "cells": [
  {
   "cell_type": "code",
   "execution_count": 1,
   "metadata": {},
   "outputs": [],
   "source": [
    "import numpy as np\n",
    "import pandas as pd\n",
    "from sklearn.base import clone\n",
    "from sklearn.model_selection import cross_val_predict\n",
    "from sklearn.datasets import load_iris\n",
    "from sklearn.ensemble import RandomForestClassifier, GradientBoostingClassifier\n",
    "from sklearn.svm import SVC\n",
    "from sklearn.linear_model import LogisticRegression\n",
    "from sklearn.ensemble import StackingClassifier as skStackingClassifier"
   ]
  },
  {
   "cell_type": "code",
   "execution_count": 2,
   "metadata": {},
   "outputs": [],
   "source": [
    "class StackingClassifier():\n",
    "    def __init__(self, estimators, final_estimator):\n",
    "        self.estimators = estimators\n",
    "        self.final_estimator = final_estimator\n",
    "\n",
    "    def fit(self, X, y):\n",
    "        self.estimators_ = []\n",
    "        for est in self.estimators:\n",
    "            self.estimators_.append(clone(est).fit(X, y))\n",
    "        predictions = []\n",
    "        for est in self.estimators:\n",
    "            cur_prediction = cross_val_predict(est, X, y, method=\"predict_proba\")\n",
    "            if cur_prediction.shape[1] == 2:\n",
    "                predictions.append(cur_prediction[:, [1]])\n",
    "            else:\n",
    "                predictions.append(cur_prediction)\n",
    "        X_meta = np.hstack(predictions)\n",
    "        self.final_estimator_ = clone(self.final_estimator)\n",
    "        self.final_estimator_.fit(X_meta, y)\n",
    "        return self\n",
    "\n",
    "    def transform(self, X):\n",
    "        predictions = []\n",
    "        for est in self.estimators_:\n",
    "            cur_prediction = est.predict_proba(X)\n",
    "            if cur_prediction.shape[1] == 2:\n",
    "                predictions.append(cur_prediction[:, [1]])\n",
    "            else:\n",
    "                predictions.append(cur_prediction)\n",
    "        return np.hstack(predictions)\n",
    "\n",
    "    def predict(self, X):\n",
    "        return self.final_estimator_.predict(self.transform(X))\n",
    "\n",
    "    def predict_proba(self, X):\n",
    "        return self.final_estimator_.predict_proba(self.transform(X))"
   ]
  },
  {
   "cell_type": "code",
   "execution_count": 3,
   "metadata": {},
   "outputs": [],
   "source": [
    "X, y = load_iris(return_X_y=True)\n",
    "X, y = X[y != 2], y[y != 2]\n",
    "clf1 = StackingClassifier(estimators=[RandomForestClassifier(random_state=0),\n",
    "                                      GradientBoostingClassifier(random_state=0),\n",
    "                                      SVC(random_state=0, probability=True)],\n",
    "                          final_estimator=LogisticRegression(random_state=0)).fit(X, y)\n",
    "clf2 = skStackingClassifier(estimators=[(\"rf\", RandomForestClassifier(random_state=0)),\n",
    "                                        (\"gbdt\", GradientBoostingClassifier(random_state=0)),\n",
    "                                        (\"svc\", SVC(random_state=0, probability=True))],\n",
    "                            final_estimator=LogisticRegression(random_state=0)).fit(X, y)\n",
    "trans1 = clf1.transform(X)\n",
    "trans2 = clf2.transform(X)\n",
    "assert np.allclose(trans1, trans2)\n",
    "pred1 = clf1.predict(X)\n",
    "pred2 = clf2.predict(X)\n",
    "assert np.array_equal(pred1, pred2)\n",
    "prob1 = clf1.predict_proba(X)\n",
    "prob2 = clf2.predict_proba(X)\n",
    "assert np.allclose(prob1, prob2)"
   ]
  },
  {
   "cell_type": "code",
   "execution_count": 4,
   "metadata": {},
   "outputs": [],
   "source": [
    "X, y = load_iris(return_X_y=True)\n",
    "clf1 = StackingClassifier(estimators=[RandomForestClassifier(random_state=0),\n",
    "                                      GradientBoostingClassifier(random_state=0),\n",
    "                                      SVC(random_state=0, probability=True)],\n",
    "                          final_estimator=LogisticRegression(random_state=0)).fit(X, y)\n",
    "clf2 = skStackingClassifier(estimators=[(\"rf\", RandomForestClassifier(random_state=0)),\n",
    "                                        (\"gbdt\", GradientBoostingClassifier(random_state=0)),\n",
    "                                        (\"svc\", SVC(random_state=0, probability=True))],\n",
    "                            final_estimator=LogisticRegression(random_state=0)).fit(X, y)\n",
    "trans1 = clf1.transform(X)\n",
    "trans2 = clf2.transform(X)\n",
    "assert np.allclose(trans1, trans2)\n",
    "pred1 = clf1.predict(X)\n",
    "pred2 = clf2.predict(X)\n",
    "assert np.array_equal(pred1, pred2)\n",
    "prob1 = clf1.predict_proba(X)\n",
    "prob2 = clf2.predict_proba(X)\n",
    "assert np.allclose(prob1, prob2)"
   ]
  }
 ],
 "metadata": {
  "kernelspec": {
   "display_name": "dev",
   "language": "python",
   "name": "dev"
  },
  "language_info": {
   "codemirror_mode": {
    "name": "ipython",
    "version": 3
   },
   "file_extension": ".py",
   "mimetype": "text/x-python",
   "name": "python",
   "nbconvert_exporter": "python",
   "pygments_lexer": "ipython3",
   "version": "3.7.3"
  }
 },
 "nbformat": 4,
 "nbformat_minor": 2
}
