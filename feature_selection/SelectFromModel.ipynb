{
 "cells": [
  {
   "cell_type": "code",
   "execution_count": 1,
   "metadata": {},
   "outputs": [],
   "source": [
    "import numpy as np\n",
    "from sklearn.base import clone\n",
    "from sklearn.datasets import load_breast_cancer, load_iris\n",
    "from sklearn.ensemble import RandomForestClassifier\n",
    "from sklearn.linear_model import LogisticRegression\n",
    "from sklearn.feature_selection import SelectFromModel as skSelectFromModel"
   ]
  },
  {
   "cell_type": "code",
   "execution_count": 2,
   "metadata": {},
   "outputs": [],
   "source": [
    "class SelectFromModel():\n",
    "    def __init__(self, estimator):\n",
    "        self.estimator = estimator\n",
    "\n",
    "    def fit(self, X, y):\n",
    "        self.estimator_ = clone(self.estimator)\n",
    "        self.estimator_.fit(X, y)\n",
    "        if hasattr(self.estimator_, \"feature_importances_\"):\n",
    "            self.importances_ = self.estimator_.feature_importances_\n",
    "        elif hasattr(self.estimator_, \"coef_\"):\n",
    "            if self.estimator_.coef_.ndim == 1:\n",
    "                self.importances_ = np.abs(self.estimator_.coef_)\n",
    "            else:\n",
    "                self.importances_ = np.linalg.norm(self.estimator_.coef_,\n",
    "                                                   ord=1, axis=0)\n",
    "        self.threshold_ = np.mean(self.importances_)\n",
    "        return self\n",
    "\n",
    "    def transform(self, X):\n",
    "        return X[:, self.importances_ < self.threshold]"
   ]
  },
  {
   "cell_type": "code",
   "execution_count": 3,
   "metadata": {},
   "outputs": [],
   "source": [
    "X, y = load_breast_cancer(return_X_y=True)\n",
    "clf = RandomForestClassifier(random_state=0)\n",
    "est1 = SelectFromModel(estimator=clf).fit(X, y)\n",
    "est2 = skSelectFromModel(estimator=clf).fit(X, y)\n",
    "assert np.allclose(est1.threshold_, est2.threshold_)"
   ]
  },
  {
   "cell_type": "code",
   "execution_count": 4,
   "metadata": {},
   "outputs": [],
   "source": [
    "X, y = load_breast_cancer(return_X_y=True)\n",
    "clf = LogisticRegression(max_iter=15000, random_state=0)\n",
    "est1 = SelectFromModel(estimator=clf).fit(X, y)\n",
    "est2 = skSelectFromModel(estimator=clf).fit(X, y)\n",
    "assert np.allclose(est1.threshold_, est2.threshold_)"
   ]
  },
  {
   "cell_type": "code",
   "execution_count": 5,
   "metadata": {},
   "outputs": [],
   "source": [
    "X, y = load_iris(return_X_y=True)\n",
    "clf = LogisticRegression(max_iter=15000, random_state=0)\n",
    "est1 = SelectFromModel(estimator=clf).fit(X, y)\n",
    "est2 = skSelectFromModel(estimator=clf).fit(X, y)\n",
    "assert np.allclose(est1.threshold_, est2.threshold_)"
   ]
  }
 ],
 "metadata": {
  "kernelspec": {
   "display_name": "dev",
   "language": "python",
   "name": "dev"
  },
  "language_info": {
   "codemirror_mode": {
    "name": "ipython",
    "version": 3
   },
   "file_extension": ".py",
   "mimetype": "text/x-python",
   "name": "python",
   "nbconvert_exporter": "python",
   "pygments_lexer": "ipython3",
   "version": "3.7.3"
  }
 },
 "nbformat": 4,
 "nbformat_minor": 2
}
