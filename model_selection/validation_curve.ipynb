{
 "cells": [
  {
   "cell_type": "code",
   "execution_count": 1,
   "metadata": {},
   "outputs": [],
   "source": [
    "import numpy as np\n",
    "from sklearn.base import clone\n",
    "from sklearn.datasets import load_boston, load_iris\n",
    "from sklearn.tree import DecisionTreeRegressor, DecisionTreeClassifier\n",
    "from sklearn.model_selection import KFold, StratifiedKFold\n",
    "from sklearn.model_selection import validation_curve as skvalidation_curve"
   ]
  },
  {
   "cell_type": "code",
   "execution_count": 2,
   "metadata": {},
   "outputs": [],
   "source": [
    "def validation_curve(estimator, X, y, param_name, param_range):\n",
    "    if estimator._estimator_type == \"regressor\":\n",
    "        cv = KFold()\n",
    "    else:  # estimator._estimator_type == \"classifier\"\n",
    "        cv = StratifiedKFold()\n",
    "    train_scores = np.zeros((len(param_range), cv.n_splits))\n",
    "    test_scores = np.zeros((len(param_range), cv.n_splits))\n",
    "    for i, param in enumerate(param_range):\n",
    "        for j, (train, test) in enumerate(cv.split(X, y)):\n",
    "            est = clone(estimator)\n",
    "            est.set_params(**{param_name: param})\n",
    "            est.fit(X[train], y[train])\n",
    "            train_scores[i, j] = est.score(X[train], y[train])\n",
    "            test_scores[i, j] = est.score(X[test], y[test])\n",
    "    return train_scores, test_scores"
   ]
  },
  {
   "cell_type": "code",
   "execution_count": 3,
   "metadata": {},
   "outputs": [],
   "source": [
    "# regression\n",
    "X, y = load_boston(return_X_y=True)\n",
    "clf = DecisionTreeRegressor(random_state=0)\n",
    "ans1 = validation_curve(clf, X, y, \"max_depth\", [2, 4, 6, 8, 10])\n",
    "ans2 = validation_curve(clf, X, y, \"max_depth\", [2, 4, 6, 8, 10])\n",
    "assert np.allclose(ans1[0], ans2[0])\n",
    "assert np.allclose(ans1[1], ans2[1])"
   ]
  },
  {
   "cell_type": "code",
   "execution_count": 4,
   "metadata": {},
   "outputs": [],
   "source": [
    "# classification\n",
    "X, y = load_iris(return_X_y=True)\n",
    "clf = DecisionTreeClassifier(random_state=0)\n",
    "ans1 = validation_curve(clf, X, y, \"max_depth\", [1, 2, 3, 4, 5])\n",
    "ans2 = validation_curve(clf, X, y, \"max_depth\", [1, 2, 3, 4, 5])\n",
    "assert np.allclose(ans1[0], ans2[0])\n",
    "assert np.allclose(ans1[1], ans2[1])"
   ]
  }
 ],
 "metadata": {
  "kernelspec": {
   "display_name": "dev",
   "language": "python",
   "name": "dev"
  },
  "language_info": {
   "codemirror_mode": {
    "name": "ipython",
    "version": 3
   },
   "file_extension": ".py",
   "mimetype": "text/x-python",
   "name": "python",
   "nbconvert_exporter": "python",
   "pygments_lexer": "ipython3",
   "version": "3.7.3"
  }
 },
 "nbformat": 4,
 "nbformat_minor": 2
}
