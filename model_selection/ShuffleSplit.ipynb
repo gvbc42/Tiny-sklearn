{
 "cells": [
  {
   "cell_type": "code",
   "execution_count": 1,
   "metadata": {},
   "outputs": [],
   "source": [
    "import numpy as np\n",
    "from math import ceil, floor\n",
    "from sklearn.datasets import load_boston\n",
    "from sklearn.model_selection import ShuffleSplit as skShuffleSplit"
   ]
  },
  {
   "cell_type": "code",
   "execution_count": 2,
   "metadata": {},
   "outputs": [],
   "source": [
    "class ShuffleSplit():\n",
    "    def __init__(self, n_splits=10,\n",
    "                 train_size=0.9, test_size=0.1, random_state=0):\n",
    "        self.n_splits = n_splits\n",
    "        self.train_size = train_size\n",
    "        self.test_size = test_size\n",
    "        self.random_state = random_state\n",
    "\n",
    "    def split(self, X, y):\n",
    "        n_train = floor(self.train_size * X.shape[0])\n",
    "        n_test = ceil(self.test_size * X.shape[0])\n",
    "        rng = np.random.RandomState(self.random_state)\n",
    "        for _ in range(self.n_splits):\n",
    "            permutation = rng.permutation(X.shape[0])\n",
    "            yield (permutation[n_test:(n_test + n_train)],\n",
    "                   permutation[:n_test])"
   ]
  },
  {
   "cell_type": "code",
   "execution_count": 3,
   "metadata": {},
   "outputs": [],
   "source": [
    "X, y = load_boston(return_X_y=True)\n",
    "cv1 = ShuffleSplit(n_splits=5, random_state=0)\n",
    "cv2 = skShuffleSplit(n_splits=5, random_state=0)\n",
    "for (train1, test1), (train2, test2) in zip(cv1.split(X, y), cv2.split(X, y)):\n",
    "    assert np.array_equal(train1, train2)\n",
    "    assert np.array_equal(test1, test2)"
   ]
  },
  {
   "cell_type": "code",
   "execution_count": 4,
   "metadata": {},
   "outputs": [],
   "source": [
    "X, y = load_boston(return_X_y=True)\n",
    "cv1 = ShuffleSplit(n_splits=5, train_size=0.5, test_size=0.2, random_state=0)\n",
    "cv2 = skShuffleSplit(n_splits=5, train_size=0.5, test_size=0.2, random_state=0)\n",
    "for (train1, test1), (train2, test2) in zip(cv1.split(X, y), cv2.split(X, y)):\n",
    "    assert np.array_equal(train1, train2)\n",
    "    assert np.array_equal(test1, test2)"
   ]
  }
 ],
 "metadata": {
  "kernelspec": {
   "display_name": "dev",
   "language": "python",
   "name": "dev"
  },
  "language_info": {
   "codemirror_mode": {
    "name": "ipython",
    "version": 3
   },
   "file_extension": ".py",
   "mimetype": "text/x-python",
   "name": "python",
   "nbconvert_exporter": "python",
   "pygments_lexer": "ipython3",
   "version": "3.7.3"
  }
 },
 "nbformat": 4,
 "nbformat_minor": 2
}
