{
 "cells": [
  {
   "cell_type": "code",
   "execution_count": 1,
   "metadata": {},
   "outputs": [],
   "source": [
    "import numpy as np\n",
    "from math import ceil, floor\n",
    "from sklearn.datasets import load_iris\n",
    "from sklearn.model_selection import StratifiedShuffleSplit as skStratifiedShuffleSplit"
   ]
  },
  {
   "cell_type": "code",
   "execution_count": 2,
   "metadata": {},
   "outputs": [],
   "source": [
    "class StratifiedShuffleSplit():\n",
    "    def __init__(self, n_splits=10,\n",
    "                 train_size=0.9, test_size=0.1, random_state=0):\n",
    "        self.n_splits = n_splits\n",
    "        self.train_size = train_size\n",
    "        self.test_size = test_size\n",
    "        self.random_state = random_state\n",
    "\n",
    "    def _approximate_mode(self, class_counts, n_draws, rng):\n",
    "        continuous = n_draws * class_counts / class_counts.sum()\n",
    "        floored = np.floor(continuous)\n",
    "        need_to_add = int(n_draws - floored.sum())\n",
    "        if need_to_add > 0:\n",
    "            remainder = continuous - floored\n",
    "            values = np.sort(np.unique(remainder))[::-1]\n",
    "            for value in values:\n",
    "                inds = np.where(remainder == value)[0]\n",
    "                add_now = min(len(inds), need_to_add)\n",
    "                inds = rng.choice(inds, size=add_now, replace=False)\n",
    "                floored[inds] += 1\n",
    "                need_to_add -= add_now\n",
    "                if need_to_add == 0:\n",
    "                    break\n",
    "        return floored.astype(int)\n",
    "\n",
    "    def split(self, X, y):\n",
    "        n_train = np.floor(self.train_size * X.shape[0])\n",
    "        n_test = np.ceil(self.test_size * X.shape[0])\n",
    "        classes, y_indices = np.unique(y, return_inverse=True)\n",
    "        class_counts = np.bincount(y_indices)\n",
    "        # quick sort is not stable\n",
    "        class_indices = np.split(np.argsort(y_indices, kind='mergesort'),\n",
    "                                 np.cumsum(class_counts)[:-1])\n",
    "        rng = np.random.RandomState(self.random_state)\n",
    "        for _ in range(self.n_splits):\n",
    "            train, test = [], []\n",
    "            n_i = self._approximate_mode(class_counts, n_train, rng)\n",
    "            t_i = self._approximate_mode(class_counts - n_i, n_test, rng)\n",
    "            for i in range(classes.shape[0]):\n",
    "                permutation = rng.permutation(class_counts[i])\n",
    "                train.extend(class_indices[i][permutation][:n_i[i]])\n",
    "                test.extend(class_indices[i][permutation][n_i[i]:n_i[i] + t_i[i]])\n",
    "            train = rng.permutation(train)\n",
    "            test = rng.permutation(test)\n",
    "            yield train, test"
   ]
  },
  {
   "cell_type": "code",
   "execution_count": 3,
   "metadata": {},
   "outputs": [],
   "source": [
    "X, y = load_iris(return_X_y=True)\n",
    "cv1 = StratifiedShuffleSplit(n_splits=5, random_state=0)\n",
    "cv2 = skStratifiedShuffleSplit(n_splits=5, random_state=0)\n",
    "for (train1, test1), (train2, test2) in zip(cv1.split(X, y), cv2.split(X, y)):\n",
    "    assert np.array_equal(train1, train2)\n",
    "    assert np.array_equal(test1, test2)"
   ]
  },
  {
   "cell_type": "code",
   "execution_count": 4,
   "metadata": {},
   "outputs": [],
   "source": [
    "X, y = load_iris(return_X_y=True)\n",
    "cv1 = StratifiedShuffleSplit(n_splits=5, train_size=0.5, test_size=0.2, random_state=0)\n",
    "cv2 = skStratifiedShuffleSplit(n_splits=5, train_size=0.5, test_size=0.2, random_state=0)\n",
    "for (train1, test1), (train2, test2) in zip(cv1.split(X, y), cv2.split(X, y)):\n",
    "    assert np.array_equal(train1, train2)\n",
    "    assert np.array_equal(test1, test2)"
   ]
  }
 ],
 "metadata": {
  "kernelspec": {
   "display_name": "dev",
   "language": "python",
   "name": "dev"
  },
  "language_info": {
   "codemirror_mode": {
    "name": "ipython",
    "version": 3
   },
   "file_extension": ".py",
   "mimetype": "text/x-python",
   "name": "python",
   "nbconvert_exporter": "python",
   "pygments_lexer": "ipython3",
   "version": "3.7.3"
  }
 },
 "nbformat": 4,
 "nbformat_minor": 2
}
