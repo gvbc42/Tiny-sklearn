{
 "cells": [
  {
   "cell_type": "code",
   "execution_count": 1,
   "metadata": {},
   "outputs": [],
   "source": [
    "import numpy as np\n",
    "from scipy.sparse import diags\n",
    "from sklearn.datasets import fetch_20newsgroups\n",
    "from sklearn.feature_extraction.text import CountVectorizer\n",
    "from sklearn.feature_extraction.text import TfidfTransformer as skTfidfTransformer"
   ]
  },
  {
   "cell_type": "code",
   "execution_count": 2,
   "metadata": {},
   "outputs": [],
   "source": [
    "class TfidfTransformer():\n",
    "    def fit(self, X):\n",
    "        df = np.bincount(X.indices, minlength=X.shape[1]) + 1\n",
    "        n_samples = X.shape[0] + 1\n",
    "        self.idf_ = np.log(n_samples / df) + 1\n",
    "        self._idf_diag = diags(self.idf_, shape=(X.shape[1], X.shape[1]), format='csr')\n",
    "        return self\n",
    "\n",
    "    def transform(self, X):\n",
    "        return X * self._idf_diag"
   ]
  },
  {
   "cell_type": "code",
   "execution_count": 3,
   "metadata": {},
   "outputs": [],
   "source": [
    "X = fetch_20newsgroups(remove=('headers', 'footers', 'quotes')).data\n",
    "for subset in [10, 100, 1000]:\n",
    "    X_train = X[:subset]\n",
    "    X_test = X[subset: 2 * subset]\n",
    "    vec = CountVectorizer().fit(X_train)\n",
    "    Xt_train = vec.transform(X_train)\n",
    "    Xt_test = vec.transform(X_test)\n",
    "    trans1 = TfidfTransformer().fit(Xt_train)\n",
    "    # scikit-learn uses l2 norm by default\n",
    "    trans2 = skTfidfTransformer(norm=None).fit(Xt_train)\n",
    "    assert np.allclose(trans1.idf_, trans2.idf_)\n",
    "    Xt1 = trans1.transform(Xt_train)\n",
    "    Xt2 = trans2.transform(Xt_train)\n",
    "    assert np.allclose(Xt1.toarray(), Xt2.toarray())\n",
    "    Xt1 = trans1.transform(Xt_test)\n",
    "    Xt2 = trans2.transform(Xt_test)\n",
    "    assert np.allclose(Xt1.toarray(), Xt2.toarray())"
   ]
  }
 ],
 "metadata": {
  "kernelspec": {
   "display_name": "dev",
   "language": "python",
   "name": "dev"
  },
  "language_info": {
   "codemirror_mode": {
    "name": "ipython",
    "version": 3
   },
   "file_extension": ".py",
   "mimetype": "text/x-python",
   "name": "python",
   "nbconvert_exporter": "python",
   "pygments_lexer": "ipython3",
   "version": "3.7.3"
  }
 },
 "nbformat": 4,
 "nbformat_minor": 2
}
